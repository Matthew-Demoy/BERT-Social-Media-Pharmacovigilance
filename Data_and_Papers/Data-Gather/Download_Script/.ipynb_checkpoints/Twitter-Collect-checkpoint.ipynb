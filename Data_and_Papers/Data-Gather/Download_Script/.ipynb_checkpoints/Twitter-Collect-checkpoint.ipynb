{
 "cells": [
  {
   "cell_type": "code",
   "execution_count": 17,
   "metadata": {},
   "outputs": [
    {
     "name": "stdout",
     "output_type": "stream",
     "text": [
      "['humira', 'dronedarone', 'lamictal', 'pradaxa', 'paxil', 'zoledronic acid', 'trazodone', 'enbrel', 'cymbalta', 'quetiapine', 'cipro', 'lozenge', 'dabigatran', 'olanzapine', 'fluoxetine', 'vyvanse', 'seroquel', 'fosamax', 'paroxetine', 'effexor', 'prozac', 'tysabri', 'rivaroxaban', 'baclofen', 'lamotrigine', 'venlafaxine', 'apixaban', 'avelox', 'levaquin', 'zyprexa', 'duloxetine', 'ofloxacin', 'geodon', 'victoza', 'metoprolol', 'viibryd', 'pristiq', 'nesina', 'factive', 'gamma-aminobutyric acid', 'sabril', 'livalo', 'denosumab', 'bystolic', 'xarelto', 'floxin', 'boniva', 'saphris', 'ziprasidone', 'memantine', 'namenda', 'latuda', 'fycompa', 'canagliflozin', 'zometa', 'etanercept', 'lurasidone', 'alendronate', 'linagliptin', 'effient', 'vimpat', 'eliquis', 'liraglutide', 'pregabalin', 'onglyza', 'nicotrol inhaler', 'lyrica', 'invokana', 'commitlozenge', 'actonel', 'nicotrolinhaler', 'synthroid', 'albuterol', 'nasonex', 'spiriva', 'suboxone', 'nexium', 'januvia', 'valsartan', 'tamiflu', 'xanax', 'lipitor', 'prozac', 'ritalin', 'adderall', 'paxil']\n"
     ]
    }
   ],
   "source": [
    "#insert library and keys\n",
    "import keys\n",
    "from tweepy import OAuthHandler\n",
    "from tweepy import Stream\n",
    "from tweepy.streaming import StreamListener\n",
    "import json\n",
    "from textblob import TextBlob\n",
    "drug_names = open('drug_names.txt', 'r')\n",
    "drug_list = [line.rstrip('\\n') for line in drug_names.readlines()]    \n",
    "print(drug_list)\n",
    "drug_tweets = open('tweets_formatted.txt', 'wb')"
   ]
  },
  {
   "cell_type": "code",
   "execution_count": null,
   "metadata": {},
   "outputs": [
    {
     "name": "stdout",
     "output_type": "stream",
     "text": [
      "1051912594179706880\t2529196320\tWhat is the difference between clonazepam and Xanax? https://t.co/AXWkr9erQg\n",
      "\n",
      "1051912603918852097\t2295013133\t@JimFerraroLaw How about taking on a class action #lawsuit on behalf of #chronicpain patients against the #CDC opio… https://t.co/XzadiHU6C1\n",
      "\n"
     ]
    }
   ],
   "source": [
    "class TwitterStreamer():\n",
    "    \"\"\"\n",
    "    Class for streaming and processing live tweets.\n",
    "    \"\"\"\n",
    "    def __init__(self):\n",
    "        pass\n",
    "\n",
    "    def stream_tweets(self, fetched_tweets_filename, hash_tag_list):\n",
    "        # This handles Twitter authetification and the connection to Twitter Streaming API\n",
    "        listener = StdOutListener(fetched_tweets_filename)\n",
    "        auth = OAuthHandler(keys.CONSUMER_KEY, keys.CONSUMER_SECRET)\n",
    "        auth.set_access_token(keys.ACCESS_TOKEN, keys.ACCESS_TOKEN_SECRET)\n",
    "        stream = Stream(auth, listener)\n",
    "\n",
    "        # This line filter Twitter Streams to capture data by the keywords: \n",
    "        stream.filter(track=hash_tag_list)\n",
    "\n",
    "\n",
    "# # # # TWITTER STREAM LISTENER # # # #\n",
    "class StdOutListener(StreamListener):\n",
    "    \"\"\"\n",
    "    This is a basic listener that just prints received tweets to stdout.\n",
    "    \"\"\"\n",
    "    def __init__(self, fetched_tweets_filename):\n",
    "        self.fetched_tweets_filename = fetched_tweets_filename\n",
    "\n",
    "    def on_data(self, data):\n",
    "        try:\n",
    "            #print(data)\n",
    "            tweet_in_json = json.loads(data)\n",
    "            if  not tweet_in_json['text'].startswith('RT'):\n",
    "                check_lang = TextBlob(str(tweet_in_json[\"text\"]).replace('\\n', ''))\n",
    "                if(check_lang.detect_language() == 'en'):\n",
    "                    line = str(tweet_in_json[\"id_str\"]) + '\\t' + str(tweet_in_json[\"user\"][\"id\"]) + '\\t' + str(tweet_in_json[\"text\"]).replace('\\n', '') + '\\n'\n",
    "                    with open(self.fetched_tweets_filename, 'ab') as tf:\n",
    "                        #line = line.decode()\n",
    "                        tf.write(line.encode())\n",
    "                        print(line)\n",
    "               \n",
    "            return True\n",
    "        except BaseException as e:\n",
    "            print(\"Error on_data %s\" % str(e))\n",
    "        return True\n",
    "          \n",
    "\n",
    "    def on_error(self, status):\n",
    "        print(status)\n",
    "\n",
    " \n",
    "if __name__ == '__main__':\n",
    "    # Authenticate using config.py and connect to Twitter Streaming API.\n",
    "    hash_tag_list = drug_list\n",
    "    fetched_tweets_filename = \"our_tweets.txt\"\n",
    "\n",
    "    twitter_streamer = TwitterStreamer()\n",
    "    twitter_streamer.stream_tweets(fetched_tweets_filename, hash_tag_list )"
   ]
  },
  {
   "cell_type": "code",
   "execution_count": null,
   "metadata": {},
   "outputs": [],
   "source": []
  }
 ],
 "metadata": {
  "kernelspec": {
   "display_name": "Python 3",
   "language": "python",
   "name": "python3"
  },
  "language_info": {
   "codemirror_mode": {
    "name": "ipython",
    "version": 3
   },
   "file_extension": ".py",
   "mimetype": "text/x-python",
   "name": "python",
   "nbconvert_exporter": "python",
   "pygments_lexer": "ipython3",
   "version": "3.6.5"
  }
 },
 "nbformat": 4,
 "nbformat_minor": 2
}
