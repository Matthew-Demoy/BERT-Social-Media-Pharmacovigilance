{
 "cells": [
  {
   "cell_type": "code",
   "execution_count": 1,
   "metadata": {},
   "outputs": [
    {
     "name": "stdout",
     "output_type": "stream",
     "text": [
      "['humira', 'dronedarone', 'lamictal', 'pradaxa', 'paxil', 'zoledronic acid', 'trazodone', 'enbrel', 'cymbalta', 'quetiapine', 'cipro', 'lozenge', 'dabigatran', 'olanzapine', 'fluoxetine', 'vyvanse', 'seroquel', 'fosamax', 'paroxetine', 'effexor', 'prozac', 'tysabri', 'rivaroxaban', 'baclofen', 'lamotrigine', 'venlafaxine', 'apixaban', 'avelox', 'levaquin', 'zyprexa', 'duloxetine', 'ofloxacin', 'geodon', 'victoza', 'metoprolol', 'viibryd', 'pristiq', 'nesina', 'factive', 'gamma-aminobutyric acid', 'sabril', 'livalo', 'denosumab', 'bystolic', 'xarelto', 'floxin', 'boniva', 'saphris', 'ziprasidone', 'memantine', 'namenda', 'latuda', 'fycompa', 'canagliflozin', 'zometa', 'etanercept', 'lurasidone', 'alendronate', 'linagliptin', 'effient', 'vimpat', 'eliquis', 'liraglutide', 'pregabalin', 'onglyza', 'nicotrol inhaler', 'lyrica', 'invokana', 'commitlozenge', 'actonel', 'nicotrolinhaler', 'synthroid', 'albuterol', 'nasonex', 'spiriva', 'suboxone', 'nexium', 'januvia', 'valsartan', 'tamiflu', 'xanax', 'lipitor', 'prozac', 'ritalin', 'adderall', 'paxil']\n"
     ]
    }
   ],
   "source": [
    "#insert library and keys\n",
    "import keys\n",
    "from tweepy import OAuthHandler\n",
    "from tweepy import Stream\n",
    "from tweepy.streaming import StreamListener\n",
    "import json\n",
    "from textblob import TextBlob\n",
    "drug_names = open('drug_names.txt', 'r')\n",
    "drug_list = [line.rstrip('\\n') for line in drug_names.readlines()]    \n",
    "print(drug_list)\n",
    "drug_tweets = open('tweets_formatted.txt', 'wb')"
   ]
  },
  {
   "cell_type": "code",
   "execution_count": null,
   "metadata": {},
   "outputs": [
    {
     "name": "stdout",
     "output_type": "stream",
     "text": [
      "1052963441013444609\t552534489\tOrrrrr you can just take Adderall\n",
      "\n",
      "1052963529823870976\t36909543\t@nickdearden75 On the upside, once the big US pharma giants took over, you are likely to get Serotonin Booster like \"Prozac\" over the counters in your local ASDA/Walmart.\n",
      "So everybody will be happy!\n",
      "\n",
      "1052963566855303168\t71578793\tI think its amazing how many people are advocating on behalf of those of us that actually struggle with ADHD... been taking Adderall since I was 6, the shits no joke, neither is poking fun at substance abuse.. but im late to the party\n",
      "\n",
      "1052963570932166663\t911983521270337537\tValium, Xanax I’m going to need something because I’m already starting to freak out\n",
      "\n",
      "xanax\n",
      "1052963810150154241\t18113825\tFor the first time I feel prepared AND excited for #Nanowrimo. Part of it is that it finally feels like it's time to tell the story that's in my head, stars aligned in general for this, but also thanks to my organization tools and Vyvanse. #adhdwriter\n",
      "\n",
      "1052963870162055168\t376027241\tI know Edge Day was yesterday, but I’m happy to report that I’ve been accidentally taking half my prescribed dosage of adderall for my ADHD. #edgetildeath #bayareastr8edj\n",
      "\n",
      "1052963871282089984\t999491718\t@TaylorReneeLeon I’ve now become the friend that offers Xanax😇\n",
      "\n",
      "1052963964450103296\t2333464507\tNormally i wouldn’t pass up an opportunity to say you’re all dangerous...but no. Some women lost all control of theirs after prom night and xanax\n",
      "\n",
      "pregabalin\n",
      "vyvanse\n",
      "1052964175767461888\t917928340660596738\tMy chilli just took a vyvanse.\n",
      "I thought I lost a friend in the present time and get an exotic khvostov\n",
      "\n",
      "1052964217991700480\t714864301\tI just found myself walking up the street and smiling. The Prozac is working extra hard today.\n",
      "\n",
      "1052964329618907142\t2252488113\tI really need to pop Xanax to go to sleep🙁 nothing else works\n",
      "\n",
      "1052964410216632321\t6852402\tThe latest in the saga is that the doctor's office faxed a new prescription to the pharmacy in NH this morning. Because Lyrica is considered a controlled substance for reasons I will never understand, they can't pull it to VA, because of sexy new(ish) drugs regs.\n",
      "\n",
      "1052964583210504193\t1024870138791645184\tLMFAOOOOOO DO YOUR THING NATURAL SELECTION\n",
      "\n",
      "1052964611429822464\t775551679\tBlacky, Whity, Purply, Greeny goddesses! #Lyrica #Bot\n",
      "\n",
      "1052964611530534912\t763219276262051840\tBro it’s EVERYWHERE\n",
      "\n",
      "ritalin\n"
     ]
    }
   ],
   "source": [
    "class TwitterStreamer():\n",
    "    \"\"\"\n",
    "    Class for streaming and processing live tweets.\n",
    "    \"\"\"\n",
    "    def __init__(self):\n",
    "        pass\n",
    "\n",
    "    def stream_tweets(self, fetched_tweets_filename, hash_tag_list):\n",
    "        # This handles Twitter authetification and the connection to Twitter Streaming API\n",
    "        listener = StdOutListener(fetched_tweets_filename)\n",
    "        auth = OAuthHandler(keys.CONSUMER_KEY, keys.CONSUMER_SECRET)\n",
    "        auth.set_access_token(keys.ACCESS_TOKEN, keys.ACCESS_TOKEN_SECRET)\n",
    "        stream = Stream(auth, listener)\n",
    "\n",
    "        # This line filter Twitter Streams to capture data by the keywords: \n",
    "        stream.filter(track=hash_tag_list)\n",
    "\n",
    "\n",
    "# # # # TWITTER STREAM LISTENER # # # #\n",
    "class StdOutListener(StreamListener):\n",
    "    \"\"\"\n",
    "    This is a basic listener that just prints received tweets to stdout.\n",
    "    \"\"\"\n",
    "    def __init__(self, fetched_tweets_filename):\n",
    "        self.fetched_tweets_filename = fetched_tweets_filename\n",
    "\n",
    "    def on_data(self, data):\n",
    "        try:\n",
    "            #print(data)\n",
    "            tweet_in_json = json.loads(data)\n",
    "            if  not tweet_in_json['text'].startswith('RT'):\n",
    "                for word in drug_list:\n",
    "                    if(word in str(tweet_in_json[\"text\"]).replace('\\n', '')):\n",
    "                        matched_drug = word\n",
    "                        print(matched_drug)\n",
    "                check_lang = TextBlob(str(tweet_in_json[\"text\"]).replace('\\n', ''))\n",
    "                if(check_lang.detect_language() == 'en'):\n",
    "                    if 'extended_tweet' in tweet_in_json:\n",
    "                        line = str(tweet_in_json[\"id_str\"]) + '\\t' + str(tweet_in_json[\"user\"][\"id\"]) + '\\t' + str(tweet_in_json[\"extended_tweet\"][\"full_text\"]) + '\\n'\n",
    "                    else:\n",
    "                        line = str(tweet_in_json[\"id_str\"]) + '\\t' + str(tweet_in_json[\"user\"][\"id\"]) + '\\t' + str(tweet_in_json[\"text\"]) + '\\n'\n",
    "                    with open(self.fetched_tweets_filename, 'ab') as tf:\n",
    "                        #line = line.decode()\n",
    "                        tf.write(line.encode())\n",
    "                        print(line)\n",
    "               \n",
    "            return True\n",
    "        except BaseException as e:\n",
    "            print(\"Error on_data %s\" % str(e))\n",
    "        return True\n",
    "          \n",
    "\n",
    "    def on_error(self, status):\n",
    "        print(status)\n",
    "\n",
    " \n",
    "if __name__ == '__main__':\n",
    "    # Authenticate using config.py and connect to Twitter Streaming API.\n",
    "    hash_tag_list = drug_list\n",
    "    fetched_tweets_filename = \"our_tweets.txt\"\n",
    "\n",
    "    twitter_streamer = TwitterStreamer()\n",
    "    twitter_streamer.stream_tweets(fetched_tweets_filename, hash_tag_list )"
   ]
  },
  {
   "cell_type": "code",
   "execution_count": null,
   "metadata": {},
   "outputs": [],
   "source": []
  }
 ],
 "metadata": {
  "kernelspec": {
   "display_name": "Python 3",
   "language": "python",
   "name": "python3"
  },
  "language_info": {
   "codemirror_mode": {
    "name": "ipython",
    "version": 3
   },
   "file_extension": ".py",
   "mimetype": "text/x-python",
   "name": "python",
   "nbconvert_exporter": "python",
   "pygments_lexer": "ipython3",
   "version": "3.6.5"
  }
 },
 "nbformat": 4,
 "nbformat_minor": 2
}
