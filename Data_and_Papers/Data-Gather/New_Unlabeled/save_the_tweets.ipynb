{
 "cells": [
  {
   "cell_type": "code",
   "execution_count": 1,
   "metadata": {},
   "outputs": [],
   "source": [
    "F = open('Oct10-16(4400 tweets).txt','w') "
   ]
  },
  {
   "cell_type": "code",
   "execution_count": 3,
   "metadata": {},
   "outputs": [
    {
     "ename": "SyntaxError",
     "evalue": "invalid syntax (<ipython-input-3-bbb79816f0c1>, line 60)",
     "output_type": "error",
     "traceback": [
      "\u001b[1;36m  File \u001b[1;32m\"<ipython-input-3-bbb79816f0c1>\"\u001b[1;36m, line \u001b[1;32m60\u001b[0m\n\u001b[1;33m    print \"\\t\".join(fields + [text]).encode('utf-8')\u001b[0m\n\u001b[1;37m             ^\u001b[0m\n\u001b[1;31mSyntaxError\u001b[0m\u001b[1;31m:\u001b[0m invalid syntax\n"
     ]
    }
   ],
   "source": [
    "#!/usr/bin/python\n",
    "import sys, urllib, re, json, socket, string\n",
    "from bs4 import BeautifulSoup\n",
    "socket.setdefaulttimeout(20)\n",
    "item_dict = {}\n",
    "try:\n",
    "    for line in open(\"Ase_External.txt\"):\n",
    "        fields = line.rstrip('\\n').split('\\t')\n",
    "        tweetid = fields[0]\n",
    "        userid = fields[1]\n",
    "    #print userid\n",
    "    #print tweetid\n",
    "        tweet = None\n",
    "        text = \"Not Available\"\n",
    "        if item_dict.has_key(tweetid):\n",
    "            text = item_dict[tweetid]\n",
    "        else:\n",
    "            try:\n",
    "                f = urllib.urlopen('http://twitter.com/'+str(userid)+'/status/'+str(tweetid))\n",
    "                html = f.read().replace(\"</html>\", \"\") + \"</html>\"\n",
    "                soup = BeautifulSoup(html)\n",
    "                jstt   = soup.find_all(\"p\", \"js-tweet-text\")\n",
    "                tweets = list(set([x.get_text() for x in jstt]))\n",
    "        #print tweets                \n",
    "\n",
    "                if len(tweets) > 1:\n",
    "                    #means there are more than one tweet being displayed (new twitter design)\n",
    "                    other_tweets = []\n",
    "\n",
    "                    cont   = soup.find_all(\"div\", \"content\")\n",
    "                    for i in cont:\n",
    "                        o_t = i.find_all(\"p\",\"js-tweet-text\")\n",
    "                        other_text = list(set([x.get_text() for x in o_t]))\n",
    "                        other_tweets += other_text\t\t\t\t\t\n",
    "                    tweets = list(set(tweets)-set(other_tweets))\n",
    "                    #print 'Other tweets\\n'\t\t\t\n",
    "                    #print other_tweets                \n",
    "                        #print tweets\n",
    "                    #print '\\n'        \n",
    "                    #continue\n",
    "\n",
    "                    text = tweets[0]\n",
    "                    item_dict[tweetid] = tweets[0]\n",
    "                    for j in soup.find_all(\"input\", \"json-data\", id=\"init-data\"):\n",
    "                        js = json.loads(j['value'])\n",
    "                        if(js.has_key(\"embedData\")):\n",
    "                            tweet = js[\"embedData\"][\"status\"]\n",
    "                            text  = js[\"embedData\"][\"status\"][\"text\"]\n",
    "                            item_dict[tweetid] = text\n",
    "                            break\n",
    "            except Exception:\n",
    "        #print userid,tweetid\n",
    "                continue\n",
    "    \n",
    "        if(tweet != None and tweet[\"id_str\"] != tweetid):\n",
    "                text = \"This tweet has been removed or is not available\"\n",
    "                item_dict[tweetid] = \"This tweet has been removed or is not available\"\n",
    "        text = text.replace('\\n', ' ',)\n",
    "        text = re.sub(r'\\s+', ' ', text)\n",
    "        print \"\\t\".join(fields + [text]).encode('utf-8')\n",
    "        line = \"\\t\".join(fields + [text]).encode('utf-8')\n",
    "        F.write(line)\n",
    "        F.write(\"\\n\")\n",
    "        \n",
    "except IndexError:\n",
    "    print 'Incorrect arguments specified (may be you didn\\'t specify any arguments..'\n",
    "    print 'Format: python [scriptname] [inputfilename] > [outputfilename]'\n"
   ]
  },
  {
   "cell_type": "code",
   "execution_count": null,
   "metadata": {},
   "outputs": [],
   "source": [
    "    "
   ]
  }
 ],
 "metadata": {
  "kernelspec": {
   "display_name": "Python 3",
   "language": "python",
   "name": "python3"
  },
  "language_info": {
   "codemirror_mode": {
    "name": "ipython",
    "version": 3
   },
   "file_extension": ".py",
   "mimetype": "text/x-python",
   "name": "python",
   "nbconvert_exporter": "python",
   "pygments_lexer": "ipython3",
   "version": "3.6.5"
  }
 },
 "nbformat": 4,
 "nbformat_minor": 2
}
